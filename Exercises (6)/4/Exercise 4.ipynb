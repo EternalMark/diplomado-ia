{
 "cells": [
  {
   "cell_type": "markdown",
   "id": "15b91e93-9162-4b02-92e2-040761a283f9",
   "metadata": {},
   "source": [
    "## Exercise 4"
   ]
  },
  {
   "cell_type": "code",
   "execution_count": 3,
   "id": "b121f408-e486-47fd-8a2b-0ca715057334",
   "metadata": {},
   "outputs": [],
   "source": [
    "using Images, LinearAlgebra"
   ]
  },
  {
   "cell_type": "code",
   "execution_count": 4,
   "id": "7d9fd713-8899-44df-a941-76dbf551f013",
   "metadata": {},
   "outputs": [
    {
     "data": {
      "text/plain": [
       "load_grayscale_image (generic function with 1 method)"
      ]
     },
     "execution_count": 4,
     "metadata": {},
     "output_type": "execute_result"
    }
   ],
   "source": [
    "function load_grayscale_image(filepath) # Upload grayscale images\n",
    "    img = Images.load(filepath)\n",
    "    gray_img = Gray.(img)\n",
    "    return Float64.(gray_img) # Convert to array of float values\n",
    "end"
   ]
  },
  {
   "cell_type": "code",
   "execution_count": 5,
   "id": "f5c76deb-900d-48f9-88d1-ec25391ab1e8",
   "metadata": {},
   "outputs": [
    {
     "data": {
      "text/plain": [
       "perform_svd (generic function with 1 method)"
      ]
     },
     "execution_count": 5,
     "metadata": {},
     "output_type": "execute_result"
    }
   ],
   "source": [
    "function perform_svd(img_matrix)\n",
    "    U, S, V = svd(img_matrix)\n",
    "    return U, S, V\n",
    "end"
   ]
  },
  {
   "cell_type": "code",
   "execution_count": 6,
   "id": "bdb97fb8-d42b-4ea2-acf6-93b18e0a48fe",
   "metadata": {},
   "outputs": [
    {
     "data": {
      "text/plain": [
       "reconstruct_image (generic function with 1 method)"
      ]
     },
     "execution_count": 6,
     "metadata": {},
     "output_type": "execute_result"
    }
   ],
   "source": [
    "function reconstruct_image(U, S, V, num_components)\n",
    "    U_reduced = U[:, 1:num_components]\n",
    "    S_reduced = Diagonal(S[1:num_components])\n",
    "    V_reduced = V[:, 1:num_components]\n",
    "    return U_reduced * S_reduced * V_reduced'\n",
    "end"
   ]
  },
  {
   "cell_type": "code",
   "execution_count": 7,
   "id": "d105a3fa-f333-40dc-bc92-3253e0ddbafa",
   "metadata": {},
   "outputs": [
    {
     "data": {
      "text/plain": [
       "normalize_image (generic function with 1 method)"
      ]
     },
     "execution_count": 7,
     "metadata": {},
     "output_type": "execute_result"
    }
   ],
   "source": [
    "function normalize_image(img_matrix) # Function to normalize the image to values ​​within the range [0, 1]\n",
    "    min_val = minimum(img_matrix)\n",
    "    max_val = maximum(img_matrix)\n",
    "    normalized_img = (img_matrix .- min_val) ./ (max_val - min_val)\n",
    "    return normalized_img\n",
    "end"
   ]
  },
  {
   "cell_type": "code",
   "execution_count": 8,
   "id": "e961a958-3d18-4b7b-ab17-bc1c68786b80",
   "metadata": {},
   "outputs": [
    {
     "data": {
      "text/plain": [
       "true"
      ]
     },
     "execution_count": 8,
     "metadata": {},
     "output_type": "execute_result"
    }
   ],
   "source": [
    "input_dir = \"/Users/michelletorres/Desktop/Homeworks AI/\"\n",
    "output_dir = \"/Users/michelletorres/Desktop/Homeworks AI/Reconstructed/\"\n",
    "isdir(output_dir) || mkdir(output_dir) # Create the output directory if it does not exist"
   ]
  },
  {
   "cell_type": "code",
   "execution_count": 9,
   "id": "e95418e7-bf70-4c0b-8ee7-c680916fdd96",
   "metadata": {},
   "outputs": [
    {
     "data": {
      "text/plain": [
       "7-element Vector{String}:\n",
       " \"Imagen 1.jpeg\"\n",
       " \"Imagen 2.jpeg\"\n",
       " \"Imagen 3.jpeg\"\n",
       " \"Imagen 4.jpeg\"\n",
       " \"Imagen 5.jpeg\"\n",
       " \"Imagen 6.jpeg\"\n",
       " \"Imagen 7.jpeg\""
      ]
     },
     "execution_count": 9,
     "metadata": {},
     "output_type": "execute_result"
    }
   ],
   "source": [
    "image_names = [\"Imagen 1.jpeg\", \"Imagen 2.jpeg\", \"Imagen 3.jpeg\", \n",
    "               \"Imagen 4.jpeg\", \"Imagen 5.jpeg\", \"Imagen 6.jpeg\", \n",
    "               \"Imagen 7.jpeg\"]"
   ]
  },
  {
   "cell_type": "code",
   "execution_count": 10,
   "id": "381d5435-ebdf-4698-ade7-7dee7a722ab9",
   "metadata": {},
   "outputs": [
    {
     "data": {
      "text/plain": [
       "50"
      ]
     },
     "execution_count": 10,
     "metadata": {},
     "output_type": "execute_result"
    }
   ],
   "source": [
    "num_components = 50  # Num for reconstruction"
   ]
  },
  {
   "cell_type": "code",
   "execution_count": 11,
   "id": "a48ed7af-9d38-4109-8ef8-1a24b21f9849",
   "metadata": {},
   "outputs": [
    {
     "name": "stdout",
     "output_type": "stream",
     "text": [
      "Procesando: /Users/michelletorres/Desktop/Homeworks AI/Imagen 1.jpeg\n",
      "Dimensiones de la imagen: (1280, 720)\n",
      "SVD completado con éxito.\n",
      "Dimensiones de la imagen reconstruida: (1280, 720)\n",
      "Imagen normalizada.\n",
      "Imagen guardada con éxito en '/Users/michelletorres/Desktop/Homeworks AI/Reconstructed/reconstructed_Imagen 1.jpeg'.\n",
      "Procesando: /Users/michelletorres/Desktop/Homeworks AI/Imagen 2.jpeg\n",
      "Dimensiones de la imagen: (1280, 720)\n",
      "SVD completado con éxito.\n",
      "Dimensiones de la imagen reconstruida: (1280, 720)\n",
      "Imagen normalizada.\n",
      "Imagen guardada con éxito en '/Users/michelletorres/Desktop/Homeworks AI/Reconstructed/reconstructed_Imagen 2.jpeg'.\n",
      "Procesando: /Users/michelletorres/Desktop/Homeworks AI/Imagen 3.jpeg\n",
      "Dimensiones de la imagen: (1280, 720)\n",
      "SVD completado con éxito.\n",
      "Dimensiones de la imagen reconstruida: (1280, 720)\n",
      "Imagen normalizada.\n",
      "Imagen guardada con éxito en '/Users/michelletorres/Desktop/Homeworks AI/Reconstructed/reconstructed_Imagen 3.jpeg'.\n",
      "Procesando: /Users/michelletorres/Desktop/Homeworks AI/Imagen 4.jpeg\n",
      "Dimensiones de la imagen: (981, 735)\n",
      "SVD completado con éxito.\n",
      "Dimensiones de la imagen reconstruida: (981, 735)\n",
      "Imagen normalizada.\n",
      "Imagen guardada con éxito en '/Users/michelletorres/Desktop/Homeworks AI/Reconstructed/reconstructed_Imagen 4.jpeg'.\n",
      "Procesando: /Users/michelletorres/Desktop/Homeworks AI/Imagen 5.jpeg\n",
      "Dimensiones de la imagen: (632, 474)\n",
      "SVD completado con éxito.\n",
      "Dimensiones de la imagen reconstruida: (632, 474)\n",
      "Imagen normalizada.\n",
      "Imagen guardada con éxito en '/Users/michelletorres/Desktop/Homeworks AI/Reconstructed/reconstructed_Imagen 5.jpeg'.\n",
      "Procesando: /Users/michelletorres/Desktop/Homeworks AI/Imagen 6.jpeg\n",
      "Dimensiones de la imagen: (1200, 729)\n",
      "SVD completado con éxito.\n",
      "Dimensiones de la imagen reconstruida: (1200, 729)\n",
      "Imagen normalizada.\n",
      "Imagen guardada con éxito en '/Users/michelletorres/Desktop/Homeworks AI/Reconstructed/reconstructed_Imagen 6.jpeg'.\n",
      "Procesando: /Users/michelletorres/Desktop/Homeworks AI/Imagen 7.jpeg\n",
      "Dimensiones de la imagen: (1198, 898)\n",
      "SVD completado con éxito.\n",
      "Dimensiones de la imagen reconstruida: (1198, 898)\n",
      "Imagen normalizada.\n",
      "Imagen guardada con éxito en '/Users/michelletorres/Desktop/Homeworks AI/Reconstructed/reconstructed_Imagen 7.jpeg'.\n"
     ]
    }
   ],
   "source": [
    "for image_name in image_names # Process each image\n",
    "    try\n",
    "        image_path = joinpath(input_dir, image_name)\n",
    "        println(\"Procesando: $image_path\")\n",
    "\n",
    "        img_matrix = load_grayscale_image(image_path) # Load the original image\n",
    "        println(\"Dimensiones de la imagen: \", size(img_matrix)) \n",
    "\n",
    "        U, S, V = perform_svd(img_matrix) # Perform SVD\n",
    "        println(\"SVD completado con éxito.\")\n",
    "\n",
    "        reconstructed_img = reconstruct_image(U, S, V, num_components)\n",
    "        println(\"Dimensiones de la imagen reconstruida: \", size(reconstructed_img))\n",
    "\n",
    "        normalized_img = normalize_image(reconstructed_img) # Normalize\n",
    "        println(\"Imagen normalizada.\")\n",
    "\n",
    "        output_path = joinpath(output_dir, \"reconstructed_$image_name\") # Save\n",
    "        save(output_path, Gray.(normalized_img))\n",
    "        println(\"Imagen guardada con éxito en '$output_path'.\")\n",
    "    catch e\n",
    "        println(\"Error al procesar $image_name: \", e)\n",
    "    end\n",
    "end"
   ]
  }
 ],
 "metadata": {
  "kernelspec": {
   "display_name": "Julia 1.11.1",
   "language": "julia",
   "name": "julia-1.11"
  },
  "language_info": {
   "file_extension": ".jl",
   "mimetype": "application/julia",
   "name": "julia",
   "version": "1.11.1"
  }
 },
 "nbformat": 4,
 "nbformat_minor": 5
}

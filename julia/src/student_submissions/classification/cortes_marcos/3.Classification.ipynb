{
 "cells": [
  {
   "cell_type": "markdown",
   "metadata": {},
   "source": [
    "# Exercise 3: Classification "
   ]
  },
  {
   "cell_type": "markdown",
   "metadata": {},
   "source": [
    "Use the Stock Market data from Chap 4 of the ISL Book to do classification, using the following algorithms:\n",
    "\n",
    "* LASSO\n",
    "* Ridge\n",
    "* Elastic Net\n",
    "* Decision Tree\n",
    "* Random Forest\n",
    "* Nearest Neighbors\n",
    "* Support Vector Machines (SVM)\n",
    "\n",
    "You will need to do the following\n",
    "\n",
    "* Get the data\n",
    "* Clean it\n",
    "* Use Go or Julia to write/use the classification algos. \n",
    "* Evaluate the accuracy of each prediction, using a confusion matrix and a ROC curve.\n",
    "* Submit your project following the submission guidelines\n"
   ]
  },
  {
   "cell_type": "code",
   "execution_count": 1,
   "metadata": {},
   "outputs": [],
   "source": [
    "import Pkg; \n",
    "# Pkg.add(\"GLMNet\");\n",
    "# Pkg.add(\"Random\");\n",
    "# Pkg.add(\"LinearAlgebra\");\n",
    "# Pkg.add(\"DataStructures\");\n",
    "# Pkg.add(\"LIBSVM\");\n",
    "# Pkg.add(\"MLBase\");\n",
    "# Pkg.add(\"Plots\");\n",
    "# Pkg.add(\"DecisionTree\");\n",
    "# Pkg.add(\"Distances\");\n",
    "# Pkg.add(\"NearestNeighbors\");\n",
    "# Pkg.add(\"EvalMetrics\");\n",
    "# Pkg.add(\"PrettyTables\");\n",
    "\n",
    "using GLMNet\n",
    "using DataFrames\n",
    "using CSV\n",
    "using LinearAlgebra\n",
    "using RDatasets\n",
    "using MLBase\n",
    "using Plots\n",
    "using DecisionTree\n",
    "using Distances\n",
    "using NearestNeighbors\n",
    "using Random\n",
    "using DataStructures\n",
    "using LIBSVM\n",
    "using PrettyTables"
   ]
  },
  {
   "cell_type": "markdown",
   "metadata": {},
   "source": [
    "### Funciones útiles"
   ]
  },
  {
   "cell_type": "code",
   "execution_count": 4,
   "metadata": {},
   "outputs": [
    {
     "data": {
      "text/plain": [
       "peryear_splits (generic function with 1 method)"
      ]
     },
     "metadata": {},
     "output_type": "display_data"
    }
   ],
   "source": [
    "assign_class(predictedvalue) = argmin(abs.(predictedvalue .- 1))\n",
    "\n",
    "findaccuracy(predictedvals,groundtruthvals) = sum(predictedvals.==groundtruthvals)/length(groundtruthvals)\n",
    "\n",
    "function peryear_splits(years,at)\n",
    "    uids = unique(years)\n",
    "    keepids = []\n",
    "    for ui in uids\n",
    "        curids = findall(years.==ui)\n",
    "        rowids = randsubseq(curids, at) \n",
    "        push!(keepids,rowids...)\n",
    "    end\n",
    "    return keepids\n",
    "end\n"
   ]
  },
  {
   "cell_type": "code",
   "execution_count": null,
   "metadata": {},
   "outputs": [],
   "source": [
    "marketdf = CSV.read(\"./dat/Smarket.csv\", DataFrame);\n",
    "@show(marketdf)\n",
    "@show(size(marketdf))\n"
   ]
  },
  {
   "cell_type": "markdown",
   "metadata": {},
   "source": [
    "### Tomando únicamente las columnas de lag 1 al 5 y Volume para predecir Direction"
   ]
  },
  {
   "cell_type": "code",
   "execution_count": 7,
   "metadata": {},
   "outputs": [
    {
     "data": {
      "text/plain": [
       "1250-element Vector{Int64}:\n",
       " 1\n",
       " 1\n",
       " 2\n",
       " 1\n",
       " 1\n",
       " 1\n",
       " 2\n",
       " 1\n",
       " 1\n",
       " 1\n",
       " ⋮\n",
       " 2\n",
       " 2\n",
       " 1\n",
       " 1\n",
       " 1\n",
       " 2\n",
       " 1\n",
       " 2\n",
       " 2"
      ]
     },
     "metadata": {},
     "output_type": "display_data"
    }
   ],
   "source": [
    "X = Matrix(marketdf[:,3:8])\n",
    "directions = marketdf[:,10]\n",
    "\n",
    "directions_map=labelmap(directions)\n",
    "y = labelencode(directions_map, directions)"
   ]
  },
  {
   "cell_type": "markdown",
   "metadata": {},
   "source": [
    "### Dividiendo el 70% de la información para entrenamiento y 30% para test"
   ]
  },
  {
   "cell_type": "code",
   "execution_count": 8,
   "metadata": {},
   "outputs": [
    {
     "name": "stdout",
     "output_type": "stream",
     "text": [
      "size(trainids) = (866,)\n",
      "size(testids) = (384,)\n"
     ]
    },
    {
     "data": {
      "text/plain": [
       "(384,)"
      ]
     },
     "metadata": {},
     "output_type": "display_data"
    }
   ],
   "source": [
    "trainids = peryear_splits(X[:,2],0.7)\n",
    "@show size(trainids)\n",
    "testids = setdiff(1:length(X[:,2]),trainids)\n",
    "@show size(testids)"
   ]
  },
  {
   "cell_type": "markdown",
   "metadata": {},
   "source": [
    "## 🟣 Method 1: Lasso"
   ]
  },
  {
   "cell_type": "code",
   "execution_count": 9,
   "metadata": {},
   "outputs": [
    {
     "data": {
      "text/plain": [
       "0.5260416666666666"
      ]
     },
     "metadata": {},
     "output_type": "display_data"
    }
   ],
   "source": [
    "path = glmnet(X[trainids,:],y[trainids])\n",
    "cv = glmnetcv(X[trainids,:],y[trainids])\n",
    "mylambda = path.lambda[argmin(cv.meanloss)]\n",
    "path = glmnet(X[trainids,:],y[trainids],lambda=[mylambda]);\n",
    "q = X[testids,:];\n",
    "predictions_lasso = GLMNet.predict(path,q)\n",
    "predictions_lasso = assign_class.(predictions_lasso)\n",
    "findaccuracy(predictions_lasso,y[testids])"
   ]
  },
  {
   "cell_type": "markdown",
   "metadata": {},
   "source": [
    "## 🟣 Method 2: Ridge"
   ]
  },
  {
   "cell_type": "code",
   "execution_count": 10,
   "metadata": {},
   "outputs": [
    {
     "data": {
      "text/plain": [
       "0.5260416666666666"
      ]
     },
     "metadata": {},
     "output_type": "display_data"
    }
   ],
   "source": [
    "# choose the best lambda to predict with.\n",
    "path = glmnet(X[trainids,:], y[trainids],alpha=0);\n",
    "cv = glmnetcv(X[trainids,:], y[trainids],alpha=0)\n",
    "mylambda = path.lambda[argmin(cv.meanloss)]\n",
    "path = glmnet(X[trainids,:], y[trainids],alpha=0,lambda=[mylambda]);\n",
    "q = X[testids,:];\n",
    "predictions_ridge = GLMNet.predict(path,q)\n",
    "predictions_ridge = assign_class.(predictions_ridge)\n",
    "findaccuracy(predictions_ridge,y[testids])"
   ]
  },
  {
   "cell_type": "markdown",
   "metadata": {},
   "source": [
    "## 🟣 Method 3: Elastic Net"
   ]
  },
  {
   "cell_type": "code",
   "execution_count": 11,
   "metadata": {},
   "outputs": [
    {
     "data": {
      "text/plain": [
       "0.5260416666666666"
      ]
     },
     "metadata": {},
     "output_type": "display_data"
    }
   ],
   "source": [
    "# choose the best lambda to predict with.\n",
    "path = glmnet(X[trainids,:], y[trainids],alpha=0.5);\n",
    "cv = glmnetcv(X[trainids,:], y[trainids],alpha=0.5)\n",
    "mylambda = path.lambda[argmin(cv.meanloss)]\n",
    "path = glmnet(X[trainids,:], y[trainids],alpha=0.5,lambda=[mylambda]);\n",
    "q = X[testids,:];\n",
    "predictions_EN = GLMNet.predict(path,q)\n",
    "predictions_EN = assign_class.(predictions_EN)\n",
    "findaccuracy(predictions_EN,y[testids])"
   ]
  },
  {
   "cell_type": "markdown",
   "metadata": {},
   "source": [
    "## 🟣 Method 4: Decision Trees"
   ]
  },
  {
   "cell_type": "code",
   "execution_count": 12,
   "metadata": {},
   "outputs": [
    {
     "data": {
      "text/plain": [
       "DecisionTreeClassifier\n",
       "max_depth:                2\n",
       "min_samples_leaf:         1\n",
       "min_samples_split:        2\n",
       "min_purity_increase:      0.0\n",
       "pruning_purity_threshold: 1.0\n",
       "n_subfeatures:            0\n",
       "classes:                  [1, 2]\n",
       "root:                     Decision Tree\n",
       "Leaves: 4\n",
       "Depth:  2"
      ]
     },
     "metadata": {},
     "output_type": "display_data"
    }
   ],
   "source": [
    "model = DecisionTreeClassifier(max_depth=2)\n",
    "DecisionTree.fit!(model, X[trainids,:], y[trainids])"
   ]
  },
  {
   "cell_type": "code",
   "execution_count": 13,
   "metadata": {},
   "outputs": [
    {
     "data": {
      "text/plain": [
       "0.5052083333333334"
      ]
     },
     "metadata": {},
     "output_type": "display_data"
    }
   ],
   "source": [
    "q = X[testids,:];\n",
    "predictions_DT = DecisionTree.predict(model, q)\n",
    "findaccuracy(predictions_DT,y[testids])"
   ]
  },
  {
   "cell_type": "markdown",
   "metadata": {},
   "source": [
    "## 🟣 Method 5: Random Forests"
   ]
  },
  {
   "cell_type": "code",
   "execution_count": 14,
   "metadata": {},
   "outputs": [
    {
     "data": {
      "text/plain": [
       "RandomForestClassifier\n",
       "n_trees:             20\n",
       "n_subfeatures:       -1\n",
       "partial_sampling:    0.7\n",
       "max_depth:           -1\n",
       "min_samples_leaf:    1\n",
       "min_samples_split:   2\n",
       "min_purity_increase: 0.0\n",
       "classes:             [1, 2]\n",
       "ensemble:            Ensemble of Decision Trees\n",
       "Trees:      20\n",
       "Avg Leaves: 143.35\n",
       "Avg Depth:  21.8"
      ]
     },
     "metadata": {},
     "output_type": "display_data"
    }
   ],
   "source": [
    "model = RandomForestClassifier(n_trees=20)\n",
    "DecisionTree.fit!(model, X[trainids,:], y[trainids])"
   ]
  },
  {
   "cell_type": "code",
   "execution_count": 15,
   "metadata": {},
   "outputs": [
    {
     "data": {
      "text/plain": [
       "0.4973958333333333"
      ]
     },
     "metadata": {},
     "output_type": "display_data"
    }
   ],
   "source": [
    "q = X[testids,:];\n",
    "predictions_RF = DecisionTree.predict(model, q)\n",
    "findaccuracy(predictions_RF,y[testids])"
   ]
  },
  {
   "cell_type": "markdown",
   "metadata": {},
   "source": [
    "## 🟣 Method 6: Using a Nearest Neighbor method"
   ]
  },
  {
   "cell_type": "code",
   "execution_count": 16,
   "metadata": {},
   "outputs": [
    {
     "data": {
      "text/plain": [
       "KDTree{StaticArraysCore.SVector{6, Float64}, Euclidean, Float64, StaticArraysCore.SVector{6, Float64}}\n",
       "  Number of points: 866\n",
       "  Dimensions: 6\n",
       "  Metric: Euclidean(0.0)\n",
       "  Reordered: true"
      ]
     },
     "metadata": {},
     "output_type": "display_data"
    }
   ],
   "source": [
    "Xtrain = X[trainids,:]\n",
    "ytrain = y[trainids]\n",
    "kdtree = KDTree(Xtrain')"
   ]
  },
  {
   "cell_type": "code",
   "execution_count": 17,
   "metadata": {},
   "outputs": [
    {
     "data": {
      "text/plain": [
       "0.5390625"
      ]
     },
     "metadata": {},
     "output_type": "display_data"
    }
   ],
   "source": [
    "queries = X[testids,:]\n",
    "idxs, dists = knn(kdtree, queries', 5, true)\n",
    "c = ytrain[hcat(idxs...)]\n",
    "possible_labels = map(i->counter(c[:,i]),1:size(c,2))\n",
    "predictions_NN = map(i->parse(Int,string(string(argmax(possible_labels[i])))),1:size(c,2))\n",
    "findaccuracy(predictions_NN,y[testids])"
   ]
  },
  {
   "cell_type": "markdown",
   "metadata": {},
   "source": [
    "## 🟣 Method 7: Support Vector Machines"
   ]
  },
  {
   "cell_type": "code",
   "execution_count": 18,
   "metadata": {},
   "outputs": [
    {
     "data": {
      "text/plain": [
       "0.5338541666666666"
      ]
     },
     "metadata": {},
     "output_type": "display_data"
    }
   ],
   "source": [
    "Xtrain = X[trainids,:]\n",
    "ytrain = y[trainids]\n",
    "model = svmtrain(Xtrain', ytrain)\n",
    "predictions_SVM, decision_values = svmpredict(model, X[testids,:]')\n",
    "findaccuracy(predictions_SVM,y[testids])"
   ]
  },
  {
   "cell_type": "markdown",
   "metadata": {},
   "source": [
    "## Resultados:"
   ]
  },
  {
   "cell_type": "code",
   "execution_count": 19,
   "metadata": {},
   "outputs": [
    {
     "data": {
      "text/plain": [
       "7×2 Matrix{Any}:\n",
       " \"lasso\"  0.526042\n",
       " \"ridge\"  0.526042\n",
       " \"EN\"     0.526042\n",
       " \"DT\"     0.505208\n",
       " \"RF\"     0.497396\n",
       " \"kNN\"    0.539062\n",
       " \"SVM\"    0.533854"
      ]
     },
     "metadata": {},
     "output_type": "display_data"
    }
   ],
   "source": [
    "overall_accuracies = zeros(7)\n",
    "methods = [\"lasso\",\"ridge\",\"EN\", \"DT\", \"RF\",\"kNN\", \"SVM\"]\n",
    "ytest = y[testids]\n",
    "overall_accuracies[1] = findaccuracy(predictions_lasso,ytest)\n",
    "overall_accuracies[2] = findaccuracy(predictions_ridge,ytest)\n",
    "overall_accuracies[3] = findaccuracy(predictions_EN,ytest)\n",
    "overall_accuracies[4] = findaccuracy(predictions_DT,ytest)\n",
    "overall_accuracies[5] = findaccuracy(predictions_RF,ytest)\n",
    "overall_accuracies[6] = findaccuracy(predictions_NN,ytest)\n",
    "overall_accuracies[7] = findaccuracy(predictions_SVM,ytest)\n",
    "hcat(methods, overall_accuracies)"
   ]
  },
  {
   "cell_type": "markdown",
   "metadata": {},
   "source": [
    "## Matrices de confusión"
   ]
  },
  {
   "cell_type": "code",
   "execution_count": 20,
   "metadata": {},
   "outputs": [
    {
     "name": "stdout",
     "output_type": "stream",
     "text": [
      "Matriz Confusión predictions_lasso\n",
      "┌────────┬────────┐\n",
      "│\u001b[1m Col. 1 \u001b[0m│\u001b[1m Col. 2 \u001b[0m│\n",
      "├────────┼────────┤\n",
      "│    202 │      0 │\n",
      "│    182 │      0 │\n",
      "└────────┴────────┘\n",
      "Matriz Confusión predictions_ridge\n",
      "┌────────┬────────┐\n",
      "│\u001b[1m Col. 1 \u001b[0m│\u001b[1m Col. 2 \u001b[0m│\n",
      "├────────┼────────┤\n",
      "│    202 │      0 │\n",
      "│    182 │      0 │\n",
      "└────────┴────────┘\n",
      "Matriz Confusión predictions_EN\n",
      "┌────────┬────────┐\n",
      "│\u001b[1m Col. 1 \u001b[0m│\u001b[1m Col. 2 \u001b[0m│\n",
      "├────────┼────────┤\n",
      "│    202 │      0 │\n",
      "│    182 │      0 │\n",
      "└────────┴────────┘\n",
      "Matriz Confusión predictions_DT\n",
      "┌────────┬────────┐\n",
      "│\u001b[1m Col. 1 \u001b[0m│\u001b[1m Col. 2 \u001b[0m│\n",
      "├────────┼────────┤\n",
      "│    171 │     31 │\n",
      "│    159 │     23 │\n",
      "└────────┴────────┘\n"
     ]
    }
   ],
   "source": [
    "println(\"Matriz Confusión predictions_lasso\")\n",
    "pretty_table(confusmat(2,y[testids], predictions_lasso[:]))\n",
    "println(\"Matriz Confusión predictions_ridge\")\n",
    "pretty_table(confusmat(2,y[testids], predictions_ridge[:]))\n",
    "println(\"Matriz Confusión predictions_EN\")\n",
    "pretty_table(confusmat(2,y[testids], predictions_EN[:]))\n",
    "println(\"Matriz Confusión predictions_DT\")\n",
    "pretty_table(confusmat(2,y[testids], predictions_DT[:]))\n",
    "\n"
   ]
  },
  {
   "cell_type": "code",
   "execution_count": 21,
   "metadata": {},
   "outputs": [
    {
     "name": "stdout",
     "output_type": "stream",
     "text": [
      "Matriz Confusión predictions_RF\n",
      "┌────────┬────────┐\n",
      "│\u001b[1m Col. 1 \u001b[0m│\u001b[1m Col. 2 \u001b[0m│\n",
      "├────────┼────────┤\n",
      "│     99 │    103 │\n",
      "│     90 │     92 │\n",
      "└────────┴────────┘\n",
      "Matriz Confusión predictions_NN\n",
      "┌────────┬────────┐\n",
      "│\u001b[1m Col. 1 \u001b[0m│\u001b[1m Col. 2 \u001b[0m│\n",
      "├────────┼────────┤\n",
      "│    115 │     87 │\n",
      "│     90 │     92 │\n",
      "└────────┴────────┘\n",
      "Matriz Confusión predictions_SVM\n",
      "┌────────┬────────┐\n",
      "│\u001b[1m Col. 1 \u001b[0m│\u001b[1m Col. 2 \u001b[0m│\n",
      "├────────┼────────┤\n",
      "│    138 │     64 │\n",
      "│    115 │     67 │\n",
      "└────────┴────────┘\n"
     ]
    }
   ],
   "source": [
    "\n",
    "println(\"Matriz Confusión predictions_RF\")\n",
    "pretty_table(confusmat(2,y[testids], predictions_RF[:]))\n",
    "println(\"Matriz Confusión predictions_NN\")\n",
    "pretty_table(confusmat(2,y[testids], predictions_NN[:]))\n",
    "println(\"Matriz Confusión predictions_SVM\")\n",
    "pretty_table(confusmat(2,y[testids], predictions_SVM[:]))"
   ]
  }
 ],
 "metadata": {
  "kernelspec": {
   "display_name": "Julia 1.11.2",
   "language": "julia",
   "name": "julia-1.11"
  },
  "language_info": {
   "file_extension": ".jl",
   "mimetype": "application/julia",
   "name": "julia",
   "version": "1.11.2"
  }
 },
 "nbformat": 4,
 "nbformat_minor": 2
}
